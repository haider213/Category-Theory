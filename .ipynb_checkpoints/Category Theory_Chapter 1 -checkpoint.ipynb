{
 "cells": [
  {
   "cell_type": "markdown",
   "metadata": {},
   "source": [
    "# Introduction\n",
    "This series of notebooks are an attempt to come up with solutions for book **Seven Sketches in Compositionality:\n",
    "An Invitation to Applied Category Theory** avaialable here: https://arxiv.org/pdf/1803.05316.pdf\n",
    " This specific notebook is the solution of **chapter 1.**"
   ]
  },
  {
   "cell_type": "markdown",
   "metadata": {},
   "source": [
    "#  Chapter 1 Generative effects: Orders and Galois connections"
   ]
  },
  {
   "cell_type": "markdown",
   "metadata": {},
   "source": [
    "**Compositionality** is defined as the ability of systems and relations to be combined to form new systems and relations. "
   ]
  },
  {
   "cell_type": "markdown",
   "metadata": {},
   "source": [
    "**Observations** are lossy, this means that observing a system is not enough to predict the system"
   ]
  },
  {
   "cell_type": "markdown",
   "metadata": {},
   "source": [
    "**maps:** $f:x \\mapsto y$ is an observation of a value $x$ that it has in a relation with a value $y$ for example when we measure the data from a sensor, it might give output in the form of a voltage based on the physical property for example distance, or temperature e.t.c that it is measuring"
   ]
  },
  {
   "cell_type": "markdown",
   "metadata": {},
   "source": [
    "*Excercise 1.1:* Some Terminology: A function $f$ such that $R\\mapsto R$ is \n",
    "1. *Order preserving* if $x<=y$ then $f(x)<=f(y)$\n",
    "2. *Metric preserving* if $\\mid(x-y)\\mid=\\mid(f(x)-f(y))\\mid$\n",
    "3. *Addition Preserving* if $f(x)+f(y)=f(x+y)$\n",
    "\n",
    "For each of the three properties defined above—call it foo—find an f that is foopreserving and an example of an f that is not foo-preserving.\n",
    "*Solution:* if $f(x)=x^1$ then:\n",
    "1. $x<=y$ then $f(x)<=f(y) ; x=2 < y=3 || 2^1 < 3^1$\n",
    "\n",
    "2. $\\mid(x-y)\\mid=\\mid(f(x)-f(y))\\mid ; (2-1)^1= 2^1 -1^1 =1$\n",
    "3. $f(x)+f(y)=f(x+y) ; 2^1+1^1= (2+1)^1=3$\n",
    "\n",
    "This means $f(x)=x^1$ is a foo presevering mapping.\n",
    "\n",
    "\n",
    "if $f(x)=x^{-1}$ then it is not foo preserving"
   ]
  }
 ],
 "metadata": {
  "kernelspec": {
   "display_name": "Python 3",
   "language": "python",
   "name": "python3"
  },
  "language_info": {
   "codemirror_mode": {
    "name": "ipython",
    "version": 3
   },
   "file_extension": ".py",
   "mimetype": "text/x-python",
   "name": "python",
   "nbconvert_exporter": "python",
   "pygments_lexer": "ipython3",
   "version": "3.8.3"
  }
 },
 "nbformat": 4,
 "nbformat_minor": 4
}
